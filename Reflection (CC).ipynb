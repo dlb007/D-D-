{
 "cells": [
  {
   "cell_type": "markdown",
   "metadata": {},
   "source": [
    "# Final Reflection\n",
    "\n",
    "#### By David Bailey\n"
   ]
  },
  {
   "cell_type": "markdown",
   "metadata": {},
   "source": [
    "\n",
    "This semester has been a world of creative but insightful exploration. The organic discovery attributes set the tone before the digital components were formed, which was more than impactful, but inner thoughtfulness. Furthermore, the weekly assignments brought on the characteristics of thought and discovery from the proponents of creating, even if the realms were outside your own skills. And even though there was a challenge, which at times brought on method attempts to help decipher and form tools of success, perseverance, and openness garnered acceptance of the use of imagination to ignite future thoughts and ideas. And with the remembrance of the past, utilization of the presence, the future benefits precisely from the connection of the journey in Critical Making, which took on the form of critical awakening! Looking back on the journey makes me realize that it can enable the power of opportunity beyond what I had traditionally believed to be capable of by the introduction and acceptance of the process and intricate digital tools enlightened openly.\n",
    "\n",
    "When considering the influences experienced during the semester, I discovered areas that I usually would not explore. The perception introduced from the beginning took on the form organically even when digital challenges and attributes were realized, allowing for challenges to become welcomed, even in uncertainty. Pursuing the area of Critical Making even with the initial unknowns, the magic blew past what was expected. It made me realize that the areas of exploration and consideration defined more than just tools of the trade but brought on a change of validity of growth toward openness that enabled me to find my true self. Currently, I am expanding to the relation of digital interfaces and formats to help publish areas of interest to my dissertational goals of Remote direction within filmmaking during the pandemic.\n",
    "\n",
    "Initially, infusing the Making Exercises organically helped introduce the thoughts and aspects of being creative. Interplaying a self within the act of \"Selfie\" was an unexpected realization. As I never seem to lay focus on myself, but rather on other aspects surrounding me, exploring foundations of Lego mosaics, Macaroni art, Virtual 3D modeling, and Shaheer Zazai's wordplay with the introduction of three-hour project-based experimentation began to gain comfort and evolve toward crafting a viable form of a visual selfie with acceptance. I was opening up action toward societal acceptance of imaginational perspectives with rejuvenated raised textures enabling symmetry of imagery \"within itself\" (Sousanis 14). Which helped \"bridge the gap between creative physical and conceptual exploration,\" opening the process socially in these challenging times (Ratto 252). In attempt Two, the extraordinary aspect of \"First, doing something yourself, as a non-expert, is a crash course in understanding how something actually works\" (Hertz 4) brought on simplified media toward independent streaming utilizing filmmaking connections endeavors to the test. Inspired on-screen by paper in an origami form by Tess Eneli Reid's work The Birth of Linda (Image 1, 2).\n",
    "\n",
    "And even though I could never replicate her work, it has inspired me to explore digital aspects of parched paper within shapes and format taken further from Rhizcomics’ “organization is a little different” (Helms). Usually, when creating a film, these attributes take many sessions within the images of a storyboard to become questioned and analyzed. Helms helped welcome disorganization, knowing that “There is a right way to read it. There are also many other ways to read it” (Helms). As following the course, “In passing through these thresholds, we emerge with the possibility to become something different” (Sousanis 97). Unflattening evolved through a mosaic-like Sousanis’s page structure with shapes challenging characters outside their routine. Where you mentioned that Your description of this work as completed alone but influenced by others is something I could imagine as a tagline for this course” (Salter). \n",
    "\n",
    "Now with Making Exercise Three, introduced 'internet vernacular\" (Cong-Huyen et al.), expressed in Buzzademi, the pursuit of expression over the world wide web pushes social expression enticing the public interest, digitally and visually. I became engrossed toward the central iterative process within the joy of plugging and playing with the artistic aspects of the technology with the GIF formulation utilizing video-created clips through the release from the structure of imagined of life of prosumer uses in the shadow of Casey Fiesler's TikToks, with no need for a dialogue of self, just the red boots, and rain puddles. Here Giphy's use allowed for \"everyone's favorite learning outcome, critical thinking, and asks participants to practice it within a set of creative constraints\" (Cong-Huyen et al.). Pushing the interplay of One More Step Closer stimulated impact connecting \"materiality of the digital, …that takes something from the physical experience and recontextualizes it\" (Salter) (Image 3).\n",
    "\n",
    "Later Hypertext of Exercise Four stemmed from Giphy. Never using this interface before was inspired by its visual perspectives with fast motion video, text, and animated images. And even though I had some experience with Twine, I was limited due to my inadequacy of formulating impactful direction. As a result, I created a project titled Action: Self Directing influenced by the visual interplay of dance remotely directed. As I embraced motion of choice, even within its simplified landscape, looking over the referenced \"Autoethnography and Reflection\" of Impostor Syndrome to draw Laura Okkema use of autoethnography research utilizing resources of sound, visual, and code in media choice welcoming \"Great multimodality!\" (Salter) (Image 4, 5). Which Later in Exercise Five, gaming brought me back to digital exploration of Noah Wardrip-Fruin opening Crafting toward the comfort of evolution in design and story (Image 6, 7). Where the Wishes Chronicles inspired gaming landscapes from generational films such as Big's, take on \"Adventure\" pushing \"Great parallels to the process of filmmaking!\" (Salter). Which was then entered in Exercise Six's Metagame, RHIZ-cade project, encompassing Editor (Carter) and Design (Lestón) (Guzman), to humanity historically expressed as \"video explores the culture of pinball as it connects to the culture of crime\" (Carter, Lestón, and Guzman) (Image 8).\n",
    "\n",
    "In exploring Boluk and LeMieux's Metagaming: Videogames and the Practice of Play, right from the onslaught with Catherine Malabou's quote, \"Humans make their own [metagames], but they do not know they make them,\" rings true toward the unknowns of structured design. As we infuse \"game design philosophy – a critical practice in which playing, making, and thinking about videogames occur within the same act\" (Boluk and LeMieux), which allows reimagining, with Twine or Bitsy, all together, boosting them to combine as \"metagames …not simply games\" (Boluk and LeMieux). Where Digital Dancer continued its path toward Coding My Own Dance Party, Paul N. Edwards states, \"Platforms Are Infrastructures on Fire\" (Mullaney, Peters, Hicks, and Philip, 313) (Image 9).\n",
    "\n",
    "Onward, Exercise Seven, allowed a Tracery generator to respond to the provocations of Your Computer is On Fire, where the impact of \"how language matters in technological design and use, one must do more than mix, stir, and borrow\" (Mullaney et al. 370). And in the spirit of exploration in the manner of NaNoGenMo of Darius Kazemi, there was an outreach for \"daring\" participation, he voiced, \"Have Fun!\" (Kazemi). As Tracery visual editor, \"challenges present as Long-Term Memory gaps …must be filed prior to creating\" (Skains et al. 71). And after finding comfort in the expansion, rules were explored \"common sense has a history and politics\" (Mullaney et al. 366), bringing in human association to any project. \n",
    "\n",
    "Furthermore, being drawn to Halloween and remotely directed horror films, such as The Host, Unfriended, and The Blair Witch Project. Tracery's generator took digital Zoom modes to the analog paper notes dispersed to the characters of The Blair Witch Project, showing \"ordinary people …lie at the heart of the disciplines forged during the Enlightenment\" (Mullaney et al. 367), which enabled Twitter's BotBoogey design to show \"how TV, film and games influence the public's knowledge in general\" (Skains et al. 58) forward \"shouting fire!, …for one's extreme action\" (Mullaney et al. 363) (Image 10, 11). In the end, BoogeyBot automated delivery is defined by a \"plea to embrace the noise, …for sociotechnical futures worth inhabiting\" (Mullaney et al. 375) to achieve \"serendipity\" (Anastasia Salter). \n",
    "\n",
    "Now, bringing in two identities together in Exercise Eight, I expanded the Giphy project portal expressed by Martha Cooley \"the [Archivist] is the keeper of countless objects of desire\" (Kim). They discovered that digital capture of images and subjects remotely \"can create a portal to express your practice in the data trail\" (Salter) (Image 12, 13). As with many of the course's project challenges, aspects of the technology simplified as intra-action that \"are created on the fly by search and query\" (Kim) allowed human freedom of perspective of normalcy toward reality. Furthermore, with the use of Drucker's concept of \"data trails,\" the separation of Omeka tools used within collections allows the dissertational story remotely as \"all images are encoded by their technologies of production and embody the qualities of the media in which they exist\" (Johanna Drucker, Graphesis) (Kim), which enforces connections to empower \"Design …a universal kind of human activity\" (Costanza-Chock), as \"data trails as guidebooks for the experience of reading, pointing to milestones and portals for in-depth exploration of stories\" (Kim). Signifying that I have \"taken the data trails inspiration through the full structure\" (Salter).\n",
    "\n",
    "Exercise Nine: Visualization introduced me to a whole new world of expression. Commencing with the two-goal platform infusing visualization, welcoming comfort of open-access use toward creativeness within the coding. And having a film and media background made me feel more comfortable accepting reflectional purposes from visualization. Initially with P5.js enhanced the journey as \"computers offer high-power processing abilities and possibilities\" (Gollihue and Xiong-Gum), as \"data always tells more one than one story\" (Gollihue and Xiong-Gum). Here, experimentation and code semblance felt natural, conceptualizing greater possibilities of \"an object's properties that show the possible actions users can take with it\" (Costanza-Chock 36). And even though my reflection of expression communicated internally, I challenged visualization to communicate possibilities through change (Image 14, 15).\n",
    "\n",
    "In Exercise Ten, Omeka explored previously used Scalar to bring archive-driven resources toward an exhibition involving remotely captured Digital Story. This was initially regulated with experimentation of archived areas linking moments of multi-story Internet Archive. Visually freeing experimenting with the interface inspiration from Micha Cardenas, Redshift & Portal metal, and Evan Bissell's The Knotted Line parallels Twine's \"hypertext\" connections as \"framework recognizes the universality of design as a human activity\" (Costanza-Chock 73). Digital Story introduced shared relationships of dissertational focus toward highlighting that \"There is nothing wrong with making things people want. It's just that too little attention is being paid to the things people need\" (Costanza-Chock 76), expanding on \"the range …to provide a more immersive entry point into the work\" (Salter) (Image 16).\n",
    "\n",
    "Exercise Eleven embraced a narrative process of electronic poetry of story within technology. And now, with the use of motion with P5.js tools. There is an openness to the use of computational accessibilities toward truer creativity as \"The first stage of any project is to do research to discover problems that need solving\" (Costanza-Chock 124). The three starters allowed for choice through the visual expression of interactive text. They qualified for an interactive set toward shaped style experimentation to travel beyond how we \"often innovated new approaches to the way the technology was used\" (Costanza-Chock 118). And even though I am far from the subjects, I can see more of them closer through tools and setups sketching to draw in viewable and expressional images formulating space of influence and expression, as \"lived …codesigners\" (Costanza-Chock 113) (Image 17). Furthermore, the digital phrase of story attempts through Brainstorm ideas signifies that \"Stories have power,\" (Costanza-Chock 133) as the scientific rotation of prototyping went past the limits making the visual story relatable as \"design projects generate attention\" (Costanza-Chock 115).\n",
    "\n",
    "Exercise Twelve’s value of Timeline.JS followed the course and began to gather the references and places of an outlandish storyboard to help “A fabrication laboratory, …offering (personal) digital fabrication” (Costanza-Chock 153). I was pulling media from a plethora of socially driven areas with IMDb and The Hollywood Reporter. I took segments of three areas of focus per the year of influence of life and industry events as “designing reality, would involve multiple levels of analysis” (Costanza-Chock 155), allowing for “thinking through …timeline structure in relationship to your work!” (Salter) (Image 18, 19).\n",
    "\n",
    "In Exercise Thirteen, I attempted to expand a course I am currently instructing next semester. I built a lesson to guide the students about the film, starting with Humanities Commons. Influenced by Digital Pedagogy as \"theory and theoretical context,\" to help relate that \"technology, … is the most, or indeed the only, worthwhile way to spend one's time\" (Chachra) (Image 20, 21, 22). Furthermore, regarding \"practice and guidelines,\" there was an attempt to relate to the topic by using my perspectives with the mix of accessible technologies of helpful resources \"as transparency of practice, removal of boundaries, and sharing of content, tools, and ideas—is a vital feature of digital pedagogy\" (Davis). As setting a \"Space for Reflection,\" students combine their experience to \"find ways to resource community partners\" (Costanza-Chock 191-192), enabling Resnick's view that \"people do not get ideas, they make them\" (Costanza-Chock 185). As my experience with the interface, this semester realizes \"the Role of the Designer as a Facilitator Rather than an Expert\" (Costanza-Chock 196). As in the end, it is recognized that \"Everyone Is an Expert Based on Their Own Lived Experience and …Have Unique and Brilliant Contributions to Bring to a Design Process\" (Costanza-Chock 198) sitting in as a \"this lens …a great course for your portfolio in the future\" (Salter).\n",
    "\n",
    "In Exercise Fourteen, Map, I studied film and how it is associated with geographic locations from the comfort of localized Florida landscapes. Once this was accomplished, images, texted backgrounds, and media components enforced that even though fictional stories drove the ideals, they felt closer to reality using local land as “Designers, developers, and technologists occupy privileged positions in the global economy” (Costanza-Chock 216). As the story formulation of the popularity of iconic titles allows for “data collection and curation, …crucial in producing an ethical data visualization” (Hepworth and Church), allowing for a “Great way to visualize local film history!” (Anastasia).\n",
    "\n",
    "Thank you for a meaningful and rewarding semester! In the end, excitement through explorations of many of these examples inspired for continuation mainly in pedagogy development and expression, moving my remote directed research forward to help influence research and education. And considering all areas that were explored toward influencing the future. The accessible use and trials of tools brought on the positive relation to openness to exploring theories to produce shared ideas that can expand the vision for the future through the dissertation and beyond.\n"
   ]
  },
  {
   "cell_type": "markdown",
   "metadata": {},
   "source": [
    "### References/Influences\n",
    "\n",
    "Bissell, Evan. \"The Knotted Line: Welcome To The Knotted Line\". The Knotted Line, \n",
    "2021, https://scalar.usc.edu/anvc/the-knotted-line/index.\n",
    "\n",
    "Boluk, Stephanie, and Patrick LeMieux. 2017. Metagaming: Playing, Competing, Spectating,\n",
    "Cheating, Trading, Making, and Breaking Videogames. University of Minnesota Press.\n",
    "\n",
    "Cardenas, Micha. \"Electronic Literature Collection - Volume 3\". Collection.Eliterature.Org, \n",
    "2021, https://collection.eliterature.org/3/work.html?work=redshift-and-portalmetal.\n",
    "\n",
    "Cong-Huyen, Anne, et al. “Buzzademia: Scholarship in The Internet Vernacular Fall \n",
    "2019.” Hyperrhiz: New Media Cultures, no. 21, 2019. hyperrhiz.io, \n",
    "https://doi.org/10.20415/hyp/021.\n",
    "\n",
    "Constanza-Chock, Sasha. Design Justice: Community-Led Practices to Build the Worlds \n",
    "We Need.  Cambridge, MA: MIT Press, 2020.\n",
    "\n",
    "Crider, Jason. “Disney Death Tour: Monumentality, Augmented Reality, and Digital \n",
    "Rhetoric.” 23.2, 15 Jan. 2019, kairos.technorhetoric.net/23.2/topoi/crider-\n",
    "anderson/index.html. Accessed 27 Nov. 2021.\n",
    "\n",
    "Davidson, Cathy N. Now You See It: How Technology and Brain Science Will Transform \n",
    "Schools and Business for the 21st Century. 2012. Open WorldCat, \n",
    "http://lib.myilibrary.com?id=708052.\n",
    "\n",
    "Davis, Rebecca F, et al. “Curating Digital Pedagogy in the Humanities.” Digital \n",
    "Pedagogy, https://digitalpedagogy.hcommons.org/introduction/.\n",
    "\n",
    "\"Digital Exhibitions | USC Libraries\". USC Libraries, 2021,\n",
    " https://libraries.usc.edu/collection/digital-exhibitions.\n",
    "\n",
    "Flores, Leonardo. \"What Is E-Poetry?\" I E-Poetry, 1 Apr. 2015, iloveepoetry.org/?p=11968.\n",
    "\n",
    "Geoffrey, Carter V. n.d. “The RHIZ-Cade: Ten Multimedia Projects on the Rhetoric of Pinball.”\n",
    " http://media.hyperrhiz.io/hyperrhiz22/sf/pinball/index.html.\n",
    "\n",
    "Helms, Jason. Rhizcomics: Rhetoric, Technology, and New Media Composition. University of \n",
    "Michigan Press, 2017. Open WorldCat, \n",
    "http://www.digitalrhetoriccollaborative.org/rhizcomics/index.html.\n",
    "\n",
    "Hepworth, Katherine, and Christopher Church. “Racism in the Machine: Visualization Ethics in \n",
    "Digital Humanities Projects.” Digital Humanities Quarterly, vol. 012, no. 4, 4 Feb. \n",
    "2019, www.digitalhumanities.org/dhq/vol/12/4/000408/000408.html.\n",
    "\n",
    "Hertz, Garnet. Making Critical Making. Hollywood: Telharmonium Press, 2012.\n",
    "\n",
    "Kazemi, Darius. NaNoGenMo, https://nanogenmo.github.io/.\n",
    "\n",
    "Kim, Dorothy. “Building Pleasure and the Digital Archive.” In Bodies of Information:\n",
    " Intersectional Feminism and Digital Humanities. Minneapolis, MN: University of \n",
    "Minnesota, 2018.\n",
    "\n",
    "\"Life in the Megapocalypse - Kenton Taylor Howard.\" Selfloud.net, \n",
    "selfloud.net/Prototype/Howard/howard.html. Accessed 6 Nov. 2021.\n",
    "\n",
    "Losh, Elizabeth Mathews, and Jacqueline Wernimont. Bodies of Information: Intersectional \n",
    "Feminism and Digital Humanities. University of Minnesota Press, 2018.\n",
    "\n",
    "Mullaney, Thomas S., Benjamin Peters, Mar Hicks, and Kavita Philip, eds. 2021. Your Computer\n",
    " Is on Fire. Cambridge, Massachusetts; London England: The MIT Press.\n",
    "\n",
    "Nesbit, and Ayers. “Visualizing Emancipation Archive Site.” Dsl.richmond.edu, \n",
    "dsl.richmond.edu/emancipation/. Accessed 27 Nov. 2021.\n",
    "\n",
    "Network, ARIJ. \"Black Beaches.\" Arij | arij.net/investigations/black-beaches-en/. Accessed 6 \n",
    "Nov. 2021.\n",
    "\n",
    "Ratto, Matt. “Critical Making: Conceptual and Material Studies in Technology and Social \n",
    "Life.” The Information Society, vol. 27, no. 4, July 2011, pp. 252–60. DOI.org (Crossref), \n",
    "https://doi.org/10.1080/01972243.2011.583819.\n",
    "\n",
    "Sayers, Jentery, and Debbie Chachra. Making Things and Drawing Boundaries: Experiments in \n",
    "the Digital Humanities. University of Minnesota Press, 2017.\n",
    "\n",
    "Skains, Lyle R. “Prelims.” Using Interactive Digital Narrative in Science and Health Education, \n",
    "2021, pp. i-xii., https://doi.org/10.1108/978-1-83909-760-720211009.\n",
    "\n",
    "Sousanis, Nick. Unflattening. Harvard University Press, 2015.\n",
    "\n",
    "\n",
    "\n"
   ]
  },
  {
   "cell_type": "markdown",
   "metadata": {},
   "source": [
    "## Images"
   ]
  },
  {
   "cell_type": "markdown",
   "metadata": {},
   "source": []
  },
  {
   "cell_type": "markdown",
   "metadata": {},
   "source": []
  },
  {
   "cell_type": "markdown",
   "metadata": {},
   "source": []
  },
  {
   "cell_type": "markdown",
   "metadata": {},
   "source": []
  },
  {
   "cell_type": "markdown",
   "metadata": {},
   "source": []
  },
  {
   "cell_type": "markdown",
   "metadata": {},
   "source": []
  },
  {
   "cell_type": "markdown",
   "metadata": {},
   "source": []
  },
  {
   "cell_type": "markdown",
   "metadata": {},
   "source": []
  },
  {
   "cell_type": "markdown",
   "metadata": {},
   "source": []
  },
  {
   "cell_type": "markdown",
   "metadata": {},
   "source": []
  },
  {
   "cell_type": "markdown",
   "metadata": {},
   "source": []
  },
  {
   "cell_type": "markdown",
   "metadata": {},
   "source": []
  },
  {
   "cell_type": "markdown",
   "metadata": {},
   "source": []
  },
  {
   "cell_type": "markdown",
   "metadata": {},
   "source": []
  },
  {
   "cell_type": "markdown",
   "metadata": {},
   "source": []
  },
  {
   "cell_type": "markdown",
   "metadata": {},
   "source": []
  }
 ],
 "metadata": {
  "interpreter": {
   "hash": "598d64e08a06bfba065a99698ec5bbec753236817de80e4f3bcf221574aa140c"
  },
  "kernelspec": {
   "display_name": "Python 3.8.8 64-bit ('base': conda)",
   "name": "python3"
  },
  "language_info": {
   "codemirror_mode": {
    "name": "ipython",
    "version": 3
   },
   "file_extension": ".py",
   "mimetype": "text/x-python",
   "name": "python",
   "nbconvert_exporter": "python",
   "pygments_lexer": "ipython3",
   "version": "3.8.11"
  },
  "orig_nbformat": 4
 },
 "nbformat": 4,
 "nbformat_minor": 2
}
