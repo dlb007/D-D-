{
 "cells": [
  {
   "cell_type": "code",
   "execution_count": 39,
   "metadata": {},
   "outputs": [
    {
     "name": "stdout",
     "output_type": "stream",
     "text": [
      "b'<!DOCTYPE html><html lang=\"en\"><head><meta http-equiv=\"X-UA-Compatible\" content=\"IE=Edge\" /><meta http-equiv=\"Content-Type\" content=\"text/html; charset=utf-8\" /><title>Film adaptations - Film Studies - Research Guides at Dartmouth College</title><meta name=\"viewport\" content=\"width=device-width, initial-scale=1.0\"><meta name=\"robots\" content=\"noarchive\" /><!-- favicon.twig -->\\n<link rel=\"apple-touch-icon\" sizes=\"180x180\" href=\"//libapps.s3.amazonaws.com/apps/common/favicon/apple-touch-icon.png\">\\n<link rel=\"icon\" type=\"image/png\" sizes=\"32x32\" href=\"//libapps.s3.amazonaws.com/apps/common/favicon/favicon-32x32.png\">\\n<link rel=\"icon\" type=\"image/png\" sizes=\"16x16\" href=\"//libapps.s3.amazonaws.com/apps/common/favicon/favicon-16x16.png\">\\n<link rel=\"manifest\" href=\"//libapps.s3.amazonaws.com/apps/common/favicon/site.webmanifest\">\\n<link rel=\"mask-icon\" href=\"//libapps.s3.amazonaws.com/apps/common/favicon/safari-pinned-tab.svg\" color=\"#5bbad5\">\\n<link rel=\"shortcut icon\" href=\"//libapps.s3.amaz'\n"
     ]
    }
   ],
   "source": [
    "# First, import the libraries you need for reading in web content. Use the model in \"WebScraping.ipynb.\" Set the URL to a website of interest for your work: this can be anything, but will work best if it's a static site (not a social media hashtag, etc.)\n",
    "\n",
    "import urllib.request, urllib.error, urllib.parse\n",
    "\n",
    "url = 'https://researchguides.dartmouth.edu/filmstudies/adaptations'\n",
    "\n",
    "response = urllib.request.urlopen(url)\n",
    "webContent = response.read()\n",
    "HTML = response.read()\n",
    "\n",
    "print(webContent[0:1000])"
   ]
  },
  {
   "cell_type": "code",
   "execution_count": 18,
   "metadata": {},
   "outputs": [],
   "source": [
    "# Second, save the website you are interested in as a file. Name that file appropriately to the content - for instance, something like \"reviewarchive.html\" would make sense if you are pulling reviews of a movie or book. After you run it, check that the file looks like it has the content you need. If it doesn't, try to figure out what went wrong.\n",
    "\n",
    "f = open('adaptationguides.html', 'wb')\n",
    "f.write(webContent)\n",
    "f.close()"
   ]
  },
  {
   "cell_type": "code",
   "execution_count": 19,
   "metadata": {},
   "outputs": [
    {
     "name": "stdout",
     "output_type": "stream",
     "text": [
      "b'<!DOCTYPE html><html lang=\"en\"><head><meta http-equiv=\"X-UA-Compatible\" content=\"IE=Edge\" /><meta http-equiv=\"Content-Type\" content=\"text/html; charset=utf-8\" /><title>Film adaptations - Film Studies - Research Guides at Dartmouth College</title><meta name=\"viewport\" content=\"width=device-width, initial-scale=1.0\"><meta name=\"robots\" content=\"noarchive\" /><!-- favicon.twig -->\\n<link rel=\"apple-touch-icon\" sizes=\"180x180\" href=\"//libapps.s3.amazonaws.com/apps/common/favicon/apple-touch-icon.png\">\\n<link rel=\"icon\" type=\"image/png\" sizes=\"32x32\" href=\"//libapps.s3.amazonaws.com/apps/common/favicon/favicon-32x32.png\">\\n<link rel=\"icon\" type=\"image/png\" sizes=\"16x16\" href=\"//libapps.s3.amazonaws.com/apps/common/favicon/favicon-16x16.png\">\\n<link rel=\"manifest\" href=\"//libapps.s3.amazonaws.com/apps/common/favicon/site.webmanifest\">\\n<link rel=\"mask-icon\" href=\"//libapps.s3.amazonaws.com/apps/common/favicon/safari-pinned-tab.svg\" color=\"#5bbad5\">\\n<link rel=\"shortcut icon\" href=\"//libapps.s3.amaz'\n"
     ]
    }
   ],
   "source": [
    "# Third, append another page of connected content: you'll need to use a modified version of the previous code, changing the URL, and using \"append binary\" to add to the file.\n",
    " \n",
    "url = 'https://researchguides.dartmouth.edu/filmstudies/adaptations'\n",
    "\n",
    "response = urllib.request.urlopen(url)\n",
    "webContent = response.read()\n",
    "\n",
    "print(webContent[0:1000])\n",
    "\n",
    "f = open('adaptationguides.html', 'ab')\n",
    "f.write(webContent)\n",
    "f.close()"
   ]
  },
  {
   "cell_type": "code",
   "execution_count": 47,
   "metadata": {},
   "outputs": [
    {
     "name": "stdout",
     "output_type": "stream",
     "text": [
      "-1\n",
      "-1\n",
      "\n"
     ]
    }
   ],
   "source": [
    "#  Bonus Challenge: If you scraped something repetitive (for instance, I used two review pages from Rotten Tomatoes as I was testing my solution), you'll notice you have a lot of redundancy in your file,\n",
    "#  and probably only a few things you really want. Can you structure your data to only save the part of the webContent pull you are interested in? \n",
    "# (If you're new to programming or Python, or stressed for time this week, don't worry about the bonus rounds!)\n",
    "# For the bonus challenge, you would need to then remove some of the excess content (like the HTML tags) from your combined html file.\n",
    "\n",
    "contents = str(HTML)\n",
    "startLoc = contents.find(\"<span id=\")\n",
    "endLoc = contents.find(\"</span>\")\n",
    "\n",
    "print(startLoc)\n",
    "print(endLoc)\n",
    "\n",
    "contents = contents[startLoc: endLoc]\n",
    "print(contents[0: 500])\n"
   ]
  },
  {
   "cell_type": "code",
   "execution_count": 20,
   "metadata": {},
   "outputs": [
    {
     "name": "stdout",
     "output_type": "stream",
     "text": [
      "<!DOCTYPE html><html lang=\"en\"><head><meta http-equiv=\"X-UA-Compatible\" content=\"IE=Edge\" /><meta http-equiv=\"Content-Type\" content=\"text/html; charset=utf-8\" /><title>Film adaptations - Film Studies - Research Guides at Dartmouth College</title><meta name=\"viewport\" content=\"width=device-width, initial-scale=1.0\"><meta name=\"robots\" content=\"noarchive\" /><!-- favicon.twig -->\n",
      "<link rel=\"apple-touch-icon\" sizes=\"180x180\" href=\"//libapps.s3.amazonaws.com/apps/common/favicon/apple-touch-icon.png\">\n",
      "<link rel=\"icon\" type=\"image/png\" sizes=\"32x32\" href=\"//libapps.s3.amazonaws.com/apps/common/favicon/favicon-32x32.png\">\n",
      "<link rel=\"icon\" type=\"image/png\" sizes=\"16x16\" href=\"//libapps.s3.amazonaws.com/apps/common/favicon/favicon-16x16.png\">\n",
      "<link rel=\"manifest\" href=\"//libapps.s3.amazonaws.com/apps/common/favicon/site.webmanifest\">\n",
      "<link rel=\"mask-icon\" href=\"//libapps.s3.amazonaws.com/apps/common/favicon/safari-pinned-tab.svg\" color=\"#5bbad5\">\n",
      "<link rel=\"shortcut icon\" href=\"//libapps.s3.amaz\n"
     ]
    }
   ],
   "source": [
    "#Next, pull in the contents of the new file (with multiple pages of HTML) using our text file reading example from week one as a model. Store those contents in a new variable, named appropriately to the contents. Print a subset of the output to confirm the import was successful.\n",
    "\n",
    "f = open(\"adaptationguides.html\",\"r\")\n",
    "reviews = f.read()\n",
    "print(reviews[0:1000])\n",
    "f.close()"
   ]
  },
  {
   "cell_type": "code",
   "execution_count": 33,
   "metadata": {},
   "outputs": [
    {
     "name": "stdout",
     "output_type": "stream",
     "text": [
      "Occurences of adaptation: 90\n",
      "['', '', '']\n",
      "['whose', 'plays', 'have', 'appeared', 'in', 'film', 'form', 'as', 'a', 'large-budget', 'Hollywood', 'musical', '(<em><i>West', 'Side', 'Story</i></em>', '(Jerome', 'Robbins', 'and', 'Robert', 'Wise,']\n",
      "It is a tie, both Bollywood and Hollywood win!!!\n",
      "Is Sherlock Holmes there? False\n"
     ]
    }
   ],
   "source": [
    "\n",
    "# Finally, use the examples in \"Conditionals.ipynb\" and \"PlayingWithStrings.ipynb\" to run at least five simple data analyses commands on your content and print the results with an explanatory statement, as in the examples. Here's a few suggestions to try, but feel free to expand on them.\n",
    "\n",
    "# 1. Count and print the occurences of a key word\n",
    "\n",
    "print(\"Occurences of adaptation: \" + str(reviews.count(\"adaptation\")))\n",
    "\n",
    "# 2. Split your dataset into strings based on word spacing, and print some of the words to view the set\n",
    "\n",
    "split_reviews = reviews.split(\" \")\n",
    "print(split_reviews[800:803])\n",
    "\n",
    "# 3. Locate the index of a word of interest, then print the phrase surrounding it\n",
    "\n",
    "hollywood = split_reviews.index(\"Hollywood\")\n",
    "print(split_reviews[hollywood-10:hollywood+10])\n",
    "\n",
    "#4. Compare the number of occurences of two significant words, such as character names, using a conditional statement. The printed statement should be different for each outcome, and handle the case where the numbers are the same (try using if, elif, and else)\n",
    "\n",
    "hollywood_count = reviews.count(\"Hollywood\")\n",
    "bollywood_count = reviews.count(\"Bollywood\")\n",
    "\n",
    "if bollywood_count > hollywood_count:\n",
    "    print(\"The film winner is Bollywood\")\n",
    "elif hollywood_count > bollywood_count:\n",
    "    print(\"It is a tie, both Bollywood and Hollywood win!!!\")\n",
    "else:\n",
    "    print(\"Apparently there is no winner.\")\n",
    "\n",
    "# 4. Search for a word and use \"in\" to print true if the word is found\n",
    "\n",
    "Holmes = \"holmes\" in reviews\n",
    "print(\"Is Sherlock Holmes there? \" + str(Holmes))"
   ]
  }
 ],
 "metadata": {
  "interpreter": {
   "hash": "598d64e08a06bfba065a99698ec5bbec753236817de80e4f3bcf221574aa140c"
  },
  "kernelspec": {
   "display_name": "Python 3.8.8 64-bit ('base': conda)",
   "name": "python3"
  },
  "language_info": {
   "codemirror_mode": {
    "name": "ipython",
    "version": 3
   },
   "file_extension": ".py",
   "mimetype": "text/x-python",
   "name": "python",
   "nbconvert_exporter": "python",
   "pygments_lexer": "ipython3",
   "version": "3.8.11"
  },
  "orig_nbformat": 4
 },
 "nbformat": 4,
 "nbformat_minor": 2
}
