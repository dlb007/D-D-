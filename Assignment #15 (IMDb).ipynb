{
 "cells": [
  {
   "cell_type": "markdown",
   "metadata": {},
   "source": [
    "# Exercise Fourteen: Project Design Starter\n",
    "In this exercise, you'll be planning out a complex project. You'll draw in some code, but focus on commenting to describe your project structure. The sample document below will guide you through organizing and annotating your project design. The primary components you'll include are:\n",
    "\n",
    "- Dependencies: What modules will your project need?\n",
    "- Collection: Where is your data coming from?\n",
    "- Processing: How will you format and process your data?\n",
    "- Analysis: What techniques will you use to understand your data?\n",
    "- Visualization: How will you visualize and explore your data?\n",
    "\n",
    "Don't worry if you aren't exactly certain how you would implement everything - this should be a starting point for a larger research study, but it doesn't need to be a complete, functional workflow. Aim for a \"good enough\" starting point that you can reference and extend for future work.\n",
    "\n",
    "Note where you have something working, and where it's broken or in progress.\n",
    "\n",
    "Race After Technology: Chapter 5\n",
    "Digital Humanities Coursebook: Coda\n",
    "\n",
    "(Karsdorp, Kestemont, and Riddell).\n",
    "\n",
    "And to help push the technical philosophy further and keep the process moving was knowing that \"An interface is a set of cognitive cues. It may look like a screen full of pictures of things inside the computer, but in fact, the interface mediates between an individual the computational activity\" (Drucker 176)."
   ]
  },
  {
   "cell_type": "markdown",
   "metadata": {},
   "source": [
    "When people change how they speak or act in order to conform to dominant norms, we call it “code-switching.” Benjamin, Ruha. Race After Technology (p. 180). Wiley. Kindle Edition. \n",
    "\n",
    "Data, in short, do not speak for themselves and don’t always change hearts and minds or policy. Benjamin, Ruha. Race After Technology (p. 192). Wiley. Kindle Edition. "
   ]
  },
  {
   "cell_type": "markdown",
   "metadata": {},
   "source": [
    "## Project Overview: NaNoGenMo\n",
    "This sample project builds on our previous exercises inspired by National Novel Generation Month. It offers a framework for exporing text generation based upon children's literature, inspired by NaNoGenMo's call to think about different forms of procedural making. As such, it is guided by that project's rule: \"Spend the month of November writing code that generates a novel of 50k+ words.\"\n",
    "\n",
    "(Replace this text with a short description of what your envisioned project design will accomplish. Include your research question and goals for this analysis.)"
   ]
  },
  {
   "cell_type": "markdown",
   "metadata": {},
   "source": [
    "## Stage One: Collect and import ten documents (novels work best, but anything goes!)\n",
    "## Stage One: Dependencies\n",
    "\n",
    "Add the import code for every dependency of your project: for instance, if you are collecting data, you might import Tweepy or BeautifulSoup. If you're working with a file of folders, import os. Most projects will require Pandas, along with appropriate processing and visualization libraries. In the comments, explain briefly why you are including each library (as shown in the example below.)\n",
    "\n",
    "\n",
    "\n",
    "(Karsdorp, Kestemont, and Riddell).\n"
   ]
  },
  {
   "cell_type": "markdown",
   "metadata": {},
   "source": [
    "As a result, comfort has been established as BeautifulSoup enables movement to work without an API. Enforcing beginning with \"a problem or a question. If your problem or question is not well defined, develop or find one which is\" (Karsdorp, Kestemont, Riddell 323) comes alive."
   ]
  },
  {
   "cell_type": "markdown",
   "metadata": {},
   "source": [
    "To keep the direction within my API  perspectives explored this semester, I brought in Wikipedia subjects pertaining to a diverse director focus in the film and entertainment industry. This was a new but warranted area to examine due to practicing something off the grid with a Python app toward finding a minor query. With the help of the path being \"director/,\" I was off and running, as \"An interface can connect a person with a computer.., a computer with a computer (as in an API)\" (Drucker 172)."
   ]
  },
  {
   "cell_type": "code",
   "execution_count": 32,
   "metadata": {},
   "outputs": [],
   "source": [
    "# Python Package imports\n",
    "import requests\n",
    "from bs4 import BeautifulSoup\n",
    "from dateutil.parser import parse\n",
    "import concurrent.futures\n",
    "import pandas as pd"
   ]
  },
  {
   "cell_type": "markdown",
   "metadata": {},
   "source": [
    "Using the film industry's random gathering of directors listed on Wikipedia correctly to locate, the interesting component was that Sean Baker included the (filmmaker) tag but still came through on the choices.  The only option that could not come on board and be documented in Wikipedia correctly was \"Sidney Poitier,\" which signified a \"GLITCH... a minor problem – a false or spurious electronic signal - a brief sudden interruption or irregularity\" (Benjamin 77). As a result, he had to be replaced with another choice to move forward.  Some of the code was familiar such as the filename and path that used replacements of spaces and underscores, which became readable toward bringing in the list becoming a defined .txt entity within the process and file.  As a result, it enabled saving page content within the director's folder to become a viable entity to explore. Which enlisted \"The notion of \"cognitive load\" (how much mental work is required) is a consideration for all interface design\" (Drucker 178)."
   ]
  },
  {
   "cell_type": "markdown",
   "metadata": {},
   "source": [
    "## Stage Two: Collection\n",
    "Describe your data collection scope and process briefly, and include an example of how you might collect your data drawing on our other projects. For example, if this workflow will collect Twitter data from a stream, you might revisit that demo, copy the stream, and adjust the hashtag.\n",
    "\n",
    "(Karsdorp, Kestemont, and Riddell)."
   ]
  },
  {
   "cell_type": "markdown",
   "metadata": {},
   "source": [
    "# Collect data using a Tweepy stream (example annotation)\n",
    "# (Copy and modify code from other exercises to prototype this goal)"
   ]
  },
  {
   "cell_type": "code",
   "execution_count": 33,
   "metadata": {},
   "outputs": [],
   "source": [
    "# Maximum number of threads that will be spawned\n",
    "MAX_THREADS = 50"
   ]
  },
  {
   "cell_type": "code",
   "execution_count": 34,
   "metadata": {},
   "outputs": [],
   "source": [
    "movie_title_arr = []\n",
    "movie_year_arr = []\n",
    "movie_genre_arr = []\n",
    "movie_synopsis_arr =[]\n",
    "image_url_arr  = []\n",
    "image_id_arr = []"
   ]
  },
  {
   "cell_type": "code",
   "execution_count": 36,
   "metadata": {},
   "outputs": [],
   "source": [
    "def getMovieTitle(header):\n",
    "    try:\n",
    "        return header[0].find(\"a\").getText()\n",
    "    except:\n",
    "        return 'NA'\n",
    "\n",
    "def getReleaseYear(header):\n",
    "    try:\n",
    "        return header[0].find(\"span\",  {\"class\": \"lister-item-year text-muted unbold\"}).getText()\n",
    "    except:\n",
    "        return 'NA'\n",
    "\n",
    "def getGenre(muted_text):\n",
    "    try:\n",
    "        return muted_text.find(\"span\",  {\"class\":  \"genre\"}).getText()\n",
    "    except:\n",
    "        return 'NA'\n",
    "\n",
    "def getsynopsys(movie):\n",
    "    try:\n",
    "        return movie.find_all(\"p\", {\"class\":  \"text-muted\"})[1].getText()\n",
    "    except:\n",
    "        return 'NA'\n",
    "\n",
    "def getImage(image):\n",
    "    try:\n",
    "        return image.get('loadlate')\n",
    "    except:\n",
    "        return 'NA'\n",
    "\n",
    "def getImageId(image):\n",
    "    try:\n",
    "        return image.get('data-tconst')\n",
    "    except:\n",
    "        return 'NA'"
   ]
  },
  {
   "cell_type": "code",
   "execution_count": 37,
   "metadata": {},
   "outputs": [],
   "source": [
    "def main(imdb_url):\n",
    "    response = requests.get(imdb_url)\n",
    "    soup = BeautifulSoup(response.text, 'html.parser')\n",
    "\n",
    "    # Movie Name\n",
    "    movies_list  = soup.find_all(\"div\", {\"class\": \"lister-item mode-advanced\"})\n",
    "    \n",
    "    for movie in movies_list:\n",
    "        header = movie.find_all(\"h3\", {\"class\":  \"lister-item-header\"})\n",
    "        muted_text = movie.find_all(\"p\", {\"class\":  \"text-muted\"})[0]\n",
    "        imageDiv =  movie.find(\"div\", {\"class\": \"lister-item-image float-left\"})\n",
    "        image = imageDiv.find(\"img\", \"loadlate\")\n",
    "        \n",
    "        #  Movie Title\n",
    "        movie_title =  getMovieTitle(header)\n",
    "        movie_title_arr.append(movie_title)\n",
    "        \n",
    "        #  Movie release year\n",
    "        year = getReleaseYear(header)\n",
    "        movie_year_arr.append(year)\n",
    "        \n",
    "        #  Genre  of movie\n",
    "        genre = getGenre(muted_text)\n",
    "        movie_genre_arr.append(genre)\n",
    "        \n",
    "        # Movie Synopsys\n",
    "        synopsis = getsynopsys(movie)\n",
    "        movie_synopsis_arr.append(synopsis)\n",
    "        \n",
    "        #  Image attributes\n",
    "        img_url = getImage(image)\n",
    "        image_url_arr.append(img_url)\n",
    "        \n",
    "        image_id = image.get('data-tconst')\n",
    "        image_id_arr.append(image_id)"
   ]
  },
  {
   "cell_type": "code",
   "execution_count": 38,
   "metadata": {},
   "outputs": [
    {
     "name": "stdout",
     "output_type": "stream",
     "text": [
      "0\n",
      "251\n",
      "501\n",
      "751\n",
      "1001\n",
      "1251\n",
      "1501\n",
      "1751\n",
      "2001\n",
      "2251\n",
      "2501\n",
      "2751\n",
      "3001\n",
      "3251\n",
      "3501\n",
      "3751\n",
      "4001\n",
      "4251\n",
      "4501\n",
      "4751\n",
      "5001\n",
      "5251\n",
      "5501\n",
      "5751\n",
      "6001\n",
      "6251\n",
      "6501\n",
      "6751\n",
      "7001\n",
      "7251\n",
      "7501\n",
      "7751\n",
      "8001\n",
      "8251\n",
      "8501\n",
      "8751\n",
      "9001\n",
      "9251\n",
      "9501\n",
      "9751\n",
      "10001\n",
      "10251\n",
      "10501\n",
      "10751\n",
      "11001\n",
      "11251\n",
      "11501\n",
      "11751\n",
      "12001\n",
      "12251\n",
      "12501\n"
     ]
    }
   ],
   "source": [
    "# An array to store all the URL that are being queried\n",
    "imageArr = []\n",
    "\n",
    "# Maximum number of pages one wants to iterate over\n",
    "MAX_PAGE =51\n",
    "\n",
    "# Loop to generate all the URLS.\n",
    "for i in range(0,MAX_PAGE):\n",
    "    totalRecords = 0 if i==0 else (250*i)+1\n",
    "    print(totalRecords)\n",
    "    imdb_url = f'https://www.imdb.com/search/title/?release_date=2020-01-02,2021-02-01&user_rating=4.0,10.0&languages=en&count=250&start={totalRecords}&ref_=adv_nxt'\n",
    "    imageArr.append(imdb_url)"
   ]
  },
  {
   "cell_type": "code",
   "execution_count": 39,
   "metadata": {},
   "outputs": [],
   "source": [
    "def download_stories(story_urls):\n",
    "    threads = min(MAX_THREADS, len(story_urls))\n",
    "    with concurrent.futures.ThreadPoolExecutor(max_workers=threads) as executor:\n",
    "        executor.map(main, story_urls)"
   ]
  },
  {
   "cell_type": "code",
   "execution_count": 40,
   "metadata": {},
   "outputs": [],
   "source": [
    "# Call the download function with the array of URLS called imageArr\n",
    "download_stories(imageArr)\n",
    "\n",
    "# Attach all the data to the pandas dataframe. You can optionally write it to a CSV file as well\n",
    "movieDf = pd.DataFrame({\n",
    "    \"Title\": movie_title_arr,\n",
    "    \"Release_Year\": movie_year_arr,\n",
    "    \"Genre\": movie_genre_arr,\n",
    "    \"Synopsis\": movie_synopsis_arr,\n",
    "    \"image_url\": image_url_arr,\n",
    "    \"image_id\": image_id_arr,\n",
    "})"
   ]
  },
  {
   "cell_type": "code",
   "execution_count": 15,
   "metadata": {},
   "outputs": [
    {
     "name": "stdout",
     "output_type": "stream",
     "text": [
      "--------- Download Complete CSV Formed --------\n"
     ]
    },
    {
     "data": {
      "text/html": [
       "<div>\n",
       "<style scoped>\n",
       "    .dataframe tbody tr th:only-of-type {\n",
       "        vertical-align: middle;\n",
       "    }\n",
       "\n",
       "    .dataframe tbody tr th {\n",
       "        vertical-align: top;\n",
       "    }\n",
       "\n",
       "    .dataframe thead th {\n",
       "        text-align: right;\n",
       "    }\n",
       "</style>\n",
       "<table border=\"1\" class=\"dataframe\">\n",
       "  <thead>\n",
       "    <tr style=\"text-align: right;\">\n",
       "      <th></th>\n",
       "      <th>Title</th>\n",
       "      <th>Release_Year</th>\n",
       "      <th>Genre</th>\n",
       "      <th>Synopsis</th>\n",
       "      <th>image_url</th>\n",
       "      <th>image_id</th>\n",
       "    </tr>\n",
       "  </thead>\n",
       "  <tbody>\n",
       "    <tr>\n",
       "      <th>0</th>\n",
       "      <td>The Great</td>\n",
       "      <td>(2020– )</td>\n",
       "      <td>\\nBiography, Comedy, Drama</td>\n",
       "      <td>\\nA royal woman living in rural Russia during ...</td>\n",
       "      <td>https://m.media-amazon.com/images/M/MV5BYzVmOG...</td>\n",
       "      <td>tt2235759</td>\n",
       "    </tr>\n",
       "    <tr>\n",
       "      <th>1</th>\n",
       "      <td>Ted Lasso</td>\n",
       "      <td>(2020– )</td>\n",
       "      <td>\\nComedy, Drama, Sport</td>\n",
       "      <td>\\nAmerican college football coach Ted Lasso he...</td>\n",
       "      <td>https://m.media-amazon.com/images/M/MV5BMDVmOD...</td>\n",
       "      <td>tt10986410</td>\n",
       "    </tr>\n",
       "    <tr>\n",
       "      <th>2</th>\n",
       "      <td>Bruised</td>\n",
       "      <td>(2020)</td>\n",
       "      <td>\\nDrama, Sport</td>\n",
       "      <td>\\nA disgraced MMA fighter finds redemption in ...</td>\n",
       "      <td>https://m.media-amazon.com/images/M/MV5BMWRjZG...</td>\n",
       "      <td>tt8310474</td>\n",
       "    </tr>\n",
       "    <tr>\n",
       "      <th>3</th>\n",
       "      <td>Locke &amp; Key</td>\n",
       "      <td>(2020– )</td>\n",
       "      <td>\\nDrama, Fantasy, Horror</td>\n",
       "      <td>\\nAfter their father is murdered under mysteri...</td>\n",
       "      <td>https://m.media-amazon.com/images/M/MV5BNmYyNW...</td>\n",
       "      <td>tt3007572</td>\n",
       "    </tr>\n",
       "    <tr>\n",
       "      <th>4</th>\n",
       "      <td>Tiger King</td>\n",
       "      <td>(2020–2021)</td>\n",
       "      <td>\\nDocumentary, Biography, Crime</td>\n",
       "      <td>\\nA rivalry between big cat eccentrics takes a...</td>\n",
       "      <td>https://m.media-amazon.com/images/M/MV5BYzI5Mj...</td>\n",
       "      <td>tt11823076</td>\n",
       "    </tr>\n",
       "  </tbody>\n",
       "</table>\n",
       "</div>"
      ],
      "text/plain": [
       "         Title Release_Year                                        Genre  \\\n",
       "0    The Great     (2020– )       \\nBiography, Comedy, Drama               \n",
       "1    Ted Lasso     (2020– )           \\nComedy, Drama, Sport               \n",
       "2      Bruised       (2020)                   \\nDrama, Sport               \n",
       "3  Locke & Key     (2020– )         \\nDrama, Fantasy, Horror               \n",
       "4   Tiger King  (2020–2021)  \\nDocumentary, Biography, Crime               \n",
       "\n",
       "                                            Synopsis  \\\n",
       "0  \\nA royal woman living in rural Russia during ...   \n",
       "1  \\nAmerican college football coach Ted Lasso he...   \n",
       "2  \\nA disgraced MMA fighter finds redemption in ...   \n",
       "3  \\nAfter their father is murdered under mysteri...   \n",
       "4  \\nA rivalry between big cat eccentrics takes a...   \n",
       "\n",
       "                                           image_url    image_id  \n",
       "0  https://m.media-amazon.com/images/M/MV5BYzVmOG...   tt2235759  \n",
       "1  https://m.media-amazon.com/images/M/MV5BMDVmOD...  tt10986410  \n",
       "2  https://m.media-amazon.com/images/M/MV5BMWRjZG...   tt8310474  \n",
       "3  https://m.media-amazon.com/images/M/MV5BNmYyNW...   tt3007572  \n",
       "4  https://m.media-amazon.com/images/M/MV5BYzI5Mj...  tt11823076  "
      ]
     },
     "execution_count": 15,
     "metadata": {},
     "output_type": "execute_result"
    }
   ],
   "source": [
    "print('--------- Download Complete CSV Formed --------')\n",
    "\n",
    "# movie.to_csv('file.csv', index=False) : If you want to store the file.\n",
    "movieDf.head()\n"
   ]
  },
  {
   "cell_type": "markdown",
   "metadata": {},
   "source": [
    "## Stage Two: Using the topic modeling code as a starter, build a topic model of the documents\n",
    "\n",
    "Topic modeling aided the directors pulled in were now used as a resource toward a viable topic model presentation.  Ranging from \"directors/Adam_Curtis.txt\" to \"directors/Mia_Hansen-Love.txt,\" this journey was accomplished, which was stored and represented in the path \"directors/\" encasing file names. As a result, \"Feelings and stories of being surveilled are a form of evidence\" (Benjamin 80). While an \"Interface is always an argument, and combines presentation (form/format), representation (contents), navigation (wayfinding), orientation (location/breadcrumbs), and connections to the network (links and social media)\" (Drucker 181).\n"
   ]
  },
  {
   "cell_type": "code",
   "execution_count": 51,
   "metadata": {},
   "outputs": [],
   "source": [
    "import IMDb\n",
    "import os\n",
    "path = \"IMDb/\""
   ]
  },
  {
   "cell_type": "code",
   "execution_count": 52,
   "metadata": {},
   "outputs": [
    {
     "ename": "TypeError",
     "evalue": "'module' object is not iterable",
     "output_type": "error",
     "traceback": [
      "\u001b[1;31m---------------------------------------------------------------------------\u001b[0m",
      "\u001b[1;31mTypeError\u001b[0m                                 Traceback (most recent call last)",
      "\u001b[1;32m~\\AppData\\Local\\Temp/ipykernel_55484/3772570683.py\u001b[0m in \u001b[0;36m<module>\u001b[1;34m\u001b[0m\n\u001b[0;32m      1\u001b[0m \u001b[0mfilms\u001b[0m \u001b[1;33m=\u001b[0m \u001b[1;33m[\u001b[0m\u001b[1;34m\"The Great\"\u001b[0m\u001b[1;33m,\u001b[0m\u001b[1;34m\"Ted Lasso\"\u001b[0m\u001b[1;33m,\u001b[0m\u001b[1;34m\"Bruised\"\u001b[0m\u001b[1;33m,\u001b[0m\u001b[1;34m\"Locke & Key\"\u001b[0m\u001b[1;33m,\u001b[0m\u001b[1;34m\"Tiger King\"\u001b[0m\u001b[1;33m]\u001b[0m\u001b[1;33m\u001b[0m\u001b[1;33m\u001b[0m\u001b[0m\n\u001b[1;32m----> 2\u001b[1;33m \u001b[1;32mfor\u001b[0m \u001b[0mfilms\u001b[0m \u001b[1;32min\u001b[0m \u001b[0mIMDb\u001b[0m\u001b[1;33m:\u001b[0m\u001b[1;33m\u001b[0m\u001b[1;33m\u001b[0m\u001b[0m\n\u001b[0m\u001b[0;32m      3\u001b[0m     \u001b[0mpage\u001b[0m \u001b[1;33m=\u001b[0m \u001b[0mIMDb\u001b[0m\u001b[1;33m.\u001b[0m\u001b[0mpage\u001b[0m\u001b[1;33m(\u001b[0m\u001b[0mfilms\u001b[0m\u001b[1;33m)\u001b[0m\u001b[1;33m\u001b[0m\u001b[1;33m\u001b[0m\u001b[0m\n\u001b[0;32m      4\u001b[0m     \u001b[0mprint\u001b[0m\u001b[1;33m(\u001b[0m\u001b[0mpage\u001b[0m\u001b[1;33m.\u001b[0m\u001b[0mtitle\u001b[0m\u001b[1;33m)\u001b[0m\u001b[1;33m\u001b[0m\u001b[1;33m\u001b[0m\u001b[0m\n\u001b[0;32m      5\u001b[0m     \u001b[0mfilename\u001b[0m \u001b[1;33m=\u001b[0m \u001b[0mpath\u001b[0m \u001b[1;33m+\u001b[0m \u001b[0mfilms\u001b[0m\u001b[1;33m.\u001b[0m\u001b[0mreplace\u001b[0m\u001b[1;33m(\u001b[0m\u001b[1;34m\" \"\u001b[0m\u001b[1;33m,\u001b[0m\u001b[1;34m\"_\"\u001b[0m\u001b[1;33m)\u001b[0m \u001b[1;33m+\u001b[0m \u001b[1;34m\".txt\"\u001b[0m\u001b[1;33m\u001b[0m\u001b[1;33m\u001b[0m\u001b[0m\n",
      "\u001b[1;31mTypeError\u001b[0m: 'module' object is not iterable"
     ]
    }
   ],
   "source": [
    "films = [\"The Great\",\"Ted Lasso\",\"Bruised\",\"Locke & Key\",\"Tiger King\"]\n",
    "for films in IMDb:\n",
    "    page = IMDb.page(films)\n",
    "    print(page.title)\n",
    "    filename = path + films.replace(\" \",\"_\") + \".txt\"\n",
    "    with open (filename, \"w\", encoding=\"utf-8\", errors=\"ignore\") as f:\n",
    "        f.write(page.content)\n",
    "        f.close()"
   ]
  },
  {
   "cell_type": "code",
   "execution_count": 54,
   "metadata": {},
   "outputs": [
    {
     "name": "stdout",
     "output_type": "stream",
     "text": [
      "0\n",
      "[]\n"
     ]
    }
   ],
   "source": [
    "import pandas as pd\n",
    "import os\n",
    "import numpy as np\n",
    "\n",
    "documents = []\n",
    "path = 'IMDb/'\n",
    "\n",
    "filenames=sorted([os.path.join(path, fn) for fn in os.listdir(path)])\n",
    "print(len(filenames)) # count files in corpus\n",
    "print(filenames[:12]) # print names of 1st 12 files in corpus"
   ]
  },
  {
   "cell_type": "markdown",
   "metadata": {},
   "source": [
    "Importing sklearn (scikit) learn's CountVectorizer, helps to enhance and organize a document-term matrix. This enables filtering with the removal of \"words, in this pedagogical setting to reduce the considerable time required to fit the topic model\" (Karsdorp, Kestemont, Riddell 297). "
   ]
  },
  {
   "cell_type": "code",
   "execution_count": 55,
   "metadata": {},
   "outputs": [
    {
     "ename": "ValueError",
     "evalue": "empty vocabulary; perhaps the documents only contain stop words",
     "output_type": "error",
     "traceback": [
      "\u001b[1;31m---------------------------------------------------------------------------\u001b[0m",
      "\u001b[1;31mValueError\u001b[0m                                Traceback (most recent call last)",
      "\u001b[1;32m~\\AppData\\Local\\Temp/ipykernel_55484/1655012447.py\u001b[0m in \u001b[0;36m<module>\u001b[1;34m\u001b[0m\n\u001b[0;32m      2\u001b[0m \u001b[1;33m\u001b[0m\u001b[0m\n\u001b[0;32m      3\u001b[0m \u001b[0mvectorizer\u001b[0m\u001b[1;33m=\u001b[0m\u001b[0mtext\u001b[0m\u001b[1;33m.\u001b[0m\u001b[0mCountVectorizer\u001b[0m\u001b[1;33m(\u001b[0m\u001b[0minput\u001b[0m\u001b[1;33m=\u001b[0m\u001b[1;34m'filename'\u001b[0m\u001b[1;33m,\u001b[0m \u001b[0mstop_words\u001b[0m\u001b[1;33m=\u001b[0m\u001b[1;34m\"english\"\u001b[0m\u001b[1;33m,\u001b[0m \u001b[0mmin_df\u001b[0m\u001b[1;33m=\u001b[0m\u001b[1;36m1\u001b[0m\u001b[1;33m)\u001b[0m\u001b[1;33m\u001b[0m\u001b[1;33m\u001b[0m\u001b[0m\n\u001b[1;32m----> 4\u001b[1;33m \u001b[0mdtm\u001b[0m\u001b[1;33m=\u001b[0m\u001b[0mvectorizer\u001b[0m\u001b[1;33m.\u001b[0m\u001b[0mfit_transform\u001b[0m\u001b[1;33m(\u001b[0m\u001b[0mfilenames\u001b[0m\u001b[1;33m)\u001b[0m\u001b[1;33m.\u001b[0m\u001b[0mtoarray\u001b[0m\u001b[1;33m(\u001b[0m\u001b[1;33m)\u001b[0m \u001b[1;31m# defines document term matrix\u001b[0m\u001b[1;33m\u001b[0m\u001b[1;33m\u001b[0m\u001b[0m\n\u001b[0m\u001b[0;32m      5\u001b[0m \u001b[1;33m\u001b[0m\u001b[0m\n\u001b[0;32m      6\u001b[0m \u001b[0mvocab\u001b[0m\u001b[1;33m=\u001b[0m\u001b[0mnp\u001b[0m\u001b[1;33m.\u001b[0m\u001b[0marray\u001b[0m\u001b[1;33m(\u001b[0m\u001b[0mvectorizer\u001b[0m\u001b[1;33m.\u001b[0m\u001b[0mget_feature_names\u001b[0m\u001b[1;33m(\u001b[0m\u001b[1;33m)\u001b[0m\u001b[1;33m)\u001b[0m\u001b[1;33m\u001b[0m\u001b[1;33m\u001b[0m\u001b[0m\n",
      "\u001b[1;32m~\\anaconda3\\lib\\site-packages\\sklearn\\feature_extraction\\text.py\u001b[0m in \u001b[0;36mfit_transform\u001b[1;34m(self, raw_documents, y)\u001b[0m\n\u001b[0;32m   1200\u001b[0m         \u001b[0mmax_features\u001b[0m \u001b[1;33m=\u001b[0m \u001b[0mself\u001b[0m\u001b[1;33m.\u001b[0m\u001b[0mmax_features\u001b[0m\u001b[1;33m\u001b[0m\u001b[1;33m\u001b[0m\u001b[0m\n\u001b[0;32m   1201\u001b[0m \u001b[1;33m\u001b[0m\u001b[0m\n\u001b[1;32m-> 1202\u001b[1;33m         vocabulary, X = self._count_vocab(raw_documents,\n\u001b[0m\u001b[0;32m   1203\u001b[0m                                           self.fixed_vocabulary_)\n\u001b[0;32m   1204\u001b[0m \u001b[1;33m\u001b[0m\u001b[0m\n",
      "\u001b[1;32m~\\anaconda3\\lib\\site-packages\\sklearn\\feature_extraction\\text.py\u001b[0m in \u001b[0;36m_count_vocab\u001b[1;34m(self, raw_documents, fixed_vocab)\u001b[0m\n\u001b[0;32m   1131\u001b[0m             \u001b[0mvocabulary\u001b[0m \u001b[1;33m=\u001b[0m \u001b[0mdict\u001b[0m\u001b[1;33m(\u001b[0m\u001b[0mvocabulary\u001b[0m\u001b[1;33m)\u001b[0m\u001b[1;33m\u001b[0m\u001b[1;33m\u001b[0m\u001b[0m\n\u001b[0;32m   1132\u001b[0m             \u001b[1;32mif\u001b[0m \u001b[1;32mnot\u001b[0m \u001b[0mvocabulary\u001b[0m\u001b[1;33m:\u001b[0m\u001b[1;33m\u001b[0m\u001b[1;33m\u001b[0m\u001b[0m\n\u001b[1;32m-> 1133\u001b[1;33m                 raise ValueError(\"empty vocabulary; perhaps the documents only\"\n\u001b[0m\u001b[0;32m   1134\u001b[0m                                  \" contain stop words\")\n\u001b[0;32m   1135\u001b[0m \u001b[1;33m\u001b[0m\u001b[0m\n",
      "\u001b[1;31mValueError\u001b[0m: empty vocabulary; perhaps the documents only contain stop words"
     ]
    }
   ],
   "source": [
    "import sklearn.feature_extraction.text as text\n",
    "\n",
    "vectorizer=text.CountVectorizer(input='filename', stop_words=\"english\", min_df=1)\n",
    "dtm=vectorizer.fit_transform(filenames).toarray() # defines document term matrix\n",
    "\n",
    "vocab=np.array(vectorizer.get_feature_names())"
   ]
  },
  {
   "cell_type": "markdown",
   "metadata": {},
   "source": [
    "Enforcing 17 articles/documents oddly coming together with the term matrix found in film as “One of the most iconic scenes from The Matrix film trilogy deals with the power of predictions and self-fulfilling prophecies” (Benjamin 84). "
   ]
  },
  {
   "cell_type": "code",
   "execution_count": 56,
   "metadata": {},
   "outputs": [
    {
     "name": "stdout",
     "output_type": "stream",
     "text": [
      "Shape of document-term matrix: (17, 9581). Number of tokens 42719\n"
     ]
    }
   ],
   "source": [
    "print(f'Shape of document-term matrix: {dtm.shape}. '\n",
    "      f'Number of tokens {dtm.sum()}')"
   ]
  },
  {
   "cell_type": "markdown",
   "metadata": {},
   "source": [
    "In association with the use of the mixture model the \"topic-word distributions\" there was use of reference of \"document-topic distributions\" by importing \"sklearn.decomposition as decomposition  model = decomposition.LatentDirichletAllocation(  n_components=100, learning_method='online', random_state=1)\" (Karsdorp, Kestemont, Riddell 300).  Here 100 topics to create patterns "
   ]
  },
  {
   "cell_type": "code",
   "execution_count": 57,
   "metadata": {},
   "outputs": [
    {
     "ename": "NotFittedError",
     "evalue": "Vocabulary not fitted or provided",
     "output_type": "error",
     "traceback": [
      "\u001b[1;31m---------------------------------------------------------------------------\u001b[0m",
      "\u001b[1;31mNotFittedError\u001b[0m                            Traceback (most recent call last)",
      "\u001b[1;32m~\\AppData\\Local\\Temp/ipykernel_55484/2594769259.py\u001b[0m in \u001b[0;36m<module>\u001b[1;34m\u001b[0m\n\u001b[0;32m      3\u001b[0m     n_components=100, learning_method='online', random_state=1)\n\u001b[0;32m      4\u001b[0m \u001b[0mdocument_topic_distributions\u001b[0m \u001b[1;33m=\u001b[0m \u001b[0mmodel\u001b[0m\u001b[1;33m.\u001b[0m\u001b[0mfit_transform\u001b[0m\u001b[1;33m(\u001b[0m\u001b[0mdtm\u001b[0m\u001b[1;33m)\u001b[0m\u001b[1;33m\u001b[0m\u001b[1;33m\u001b[0m\u001b[0m\n\u001b[1;32m----> 5\u001b[1;33m \u001b[0mvocabulary\u001b[0m \u001b[1;33m=\u001b[0m \u001b[0mvectorizer\u001b[0m\u001b[1;33m.\u001b[0m\u001b[0mget_feature_names\u001b[0m\u001b[1;33m(\u001b[0m\u001b[1;33m)\u001b[0m\u001b[1;33m\u001b[0m\u001b[1;33m\u001b[0m\u001b[0m\n\u001b[0m\u001b[0;32m      6\u001b[0m \u001b[1;31m# (# topics, # vocabulary)\u001b[0m\u001b[1;33m\u001b[0m\u001b[1;33m\u001b[0m\u001b[1;33m\u001b[0m\u001b[0m\n\u001b[0;32m      7\u001b[0m \u001b[1;32massert\u001b[0m \u001b[0mmodel\u001b[0m\u001b[1;33m.\u001b[0m\u001b[0mcomponents_\u001b[0m\u001b[1;33m.\u001b[0m\u001b[0mshape\u001b[0m \u001b[1;33m==\u001b[0m \u001b[1;33m(\u001b[0m\u001b[1;36m100\u001b[0m\u001b[1;33m,\u001b[0m \u001b[0mlen\u001b[0m\u001b[1;33m(\u001b[0m\u001b[0mvocabulary\u001b[0m\u001b[1;33m)\u001b[0m\u001b[1;33m)\u001b[0m\u001b[1;33m\u001b[0m\u001b[1;33m\u001b[0m\u001b[0m\n",
      "\u001b[1;32m~\\anaconda3\\lib\\site-packages\\sklearn\\feature_extraction\\text.py\u001b[0m in \u001b[0;36mget_feature_names\u001b[1;34m(self)\u001b[0m\n\u001b[0;32m   1295\u001b[0m         \"\"\"\n\u001b[0;32m   1296\u001b[0m \u001b[1;33m\u001b[0m\u001b[0m\n\u001b[1;32m-> 1297\u001b[1;33m         \u001b[0mself\u001b[0m\u001b[1;33m.\u001b[0m\u001b[0m_check_vocabulary\u001b[0m\u001b[1;33m(\u001b[0m\u001b[1;33m)\u001b[0m\u001b[1;33m\u001b[0m\u001b[1;33m\u001b[0m\u001b[0m\n\u001b[0m\u001b[0;32m   1298\u001b[0m \u001b[1;33m\u001b[0m\u001b[0m\n\u001b[0;32m   1299\u001b[0m         return [t for t, i in sorted(self.vocabulary_.items(),\n",
      "\u001b[1;32m~\\anaconda3\\lib\\site-packages\\sklearn\\feature_extraction\\text.py\u001b[0m in \u001b[0;36m_check_vocabulary\u001b[1;34m(self)\u001b[0m\n\u001b[0;32m    470\u001b[0m             \u001b[0mself\u001b[0m\u001b[1;33m.\u001b[0m\u001b[0m_validate_vocabulary\u001b[0m\u001b[1;33m(\u001b[0m\u001b[1;33m)\u001b[0m\u001b[1;33m\u001b[0m\u001b[1;33m\u001b[0m\u001b[0m\n\u001b[0;32m    471\u001b[0m             \u001b[1;32mif\u001b[0m \u001b[1;32mnot\u001b[0m \u001b[0mself\u001b[0m\u001b[1;33m.\u001b[0m\u001b[0mfixed_vocabulary_\u001b[0m\u001b[1;33m:\u001b[0m\u001b[1;33m\u001b[0m\u001b[1;33m\u001b[0m\u001b[0m\n\u001b[1;32m--> 472\u001b[1;33m                 \u001b[1;32mraise\u001b[0m \u001b[0mNotFittedError\u001b[0m\u001b[1;33m(\u001b[0m\u001b[1;34m\"Vocabulary not fitted or provided\"\u001b[0m\u001b[1;33m)\u001b[0m\u001b[1;33m\u001b[0m\u001b[1;33m\u001b[0m\u001b[0m\n\u001b[0m\u001b[0;32m    473\u001b[0m \u001b[1;33m\u001b[0m\u001b[0m\n\u001b[0;32m    474\u001b[0m         \u001b[1;32mif\u001b[0m \u001b[0mlen\u001b[0m\u001b[1;33m(\u001b[0m\u001b[0mself\u001b[0m\u001b[1;33m.\u001b[0m\u001b[0mvocabulary_\u001b[0m\u001b[1;33m)\u001b[0m \u001b[1;33m==\u001b[0m \u001b[1;36m0\u001b[0m\u001b[1;33m:\u001b[0m\u001b[1;33m\u001b[0m\u001b[1;33m\u001b[0m\u001b[0m\n",
      "\u001b[1;31mNotFittedError\u001b[0m: Vocabulary not fitted or provided"
     ]
    }
   ],
   "source": [
    "import sklearn.decomposition as decomposition\n",
    "model = decomposition.LatentDirichletAllocation(\n",
    "    n_components=100, learning_method='online', random_state=1)\n",
    "document_topic_distributions = model.fit_transform(dtm)\n",
    "vocabulary = vectorizer.get_feature_names()\n",
    "# (# topics, # vocabulary)\n",
    "assert model.components_.shape == (100, len(vocabulary))\n",
    "# (# documents, # topics)\n",
    "assert document_topic_distributions.shape == (dtm.shape[0], 100)  "
   ]
  },
  {
   "cell_type": "markdown",
   "metadata": {},
   "source": [
    "In this section, there was a use to take advantage of a parameter's  topic association with a \"vocabulary element... converting the arrays which hold the parameter estimates into DataFrames with named rows and columns.  topic_names = [f'Topic {k}' for k in range(100)]  topic_word_distributions = pd.DataFrame(  model.components_, columns=vocabulary, index=topic_names)\" (Karsdorp, Kestemont, Riddell 301). "
   ]
  },
  {
   "cell_type": "code",
   "execution_count": 58,
   "metadata": {},
   "outputs": [
    {
     "name": "stdout",
     "output_type": "stream",
     "text": [
      "               000  0062204707        02  0252061400  0316257442  0345428820  \\\n",
      "Topic 0   0.239674    0.192002  0.193825    0.183861    0.239989    0.189205   \n",
      "Topic 1   0.186044    0.197449  0.187473    0.193795    0.218828    0.225475   \n",
      "Topic 2   0.209735    0.194032  0.228112    0.182179    0.217655    0.174812   \n",
      "Topic 3   0.216428    0.186337  0.191848    0.202245    0.212644    0.184817   \n",
      "Topic 4   0.199050    0.199901  0.191647    0.209342    0.200201    0.207283   \n",
      "...            ...         ...       ...         ...         ...         ...   \n",
      "Topic 95  0.189966    0.210739  0.193293    0.202363    0.231056    0.194162   \n",
      "Topic 96  0.164812    0.193523  0.238616    0.198727    0.225409    0.210277   \n",
      "Topic 97  0.210217    0.183445  0.177579    0.214921    0.216195    0.231066   \n",
      "Topic 98  0.240047    0.232953  0.180106    0.154621    0.183514    0.232676   \n",
      "Topic 99  1.778020    0.230897  0.212783    0.963061    0.204757    0.183130   \n",
      "\n",
      "          0345428844  0345455741  0345475732  0345494764  ...    zimmer  \\\n",
      "Topic 0     0.233837    0.166079    0.226830    0.182971  ...  0.194558   \n",
      "Topic 1     0.187120    0.209060    0.233568    0.207106  ...  0.220351   \n",
      "Topic 2     0.230549    0.182558    0.201403    0.169955  ...  0.192046   \n",
      "Topic 3     0.208974    0.208912    0.191742    0.190521  ...  0.196594   \n",
      "Topic 4     0.201575    0.231534    0.183714    0.191590  ...  0.217168   \n",
      "...              ...         ...         ...         ...  ...       ...   \n",
      "Topic 95    0.191044    0.198845    0.222318    0.186802  ...  0.227102   \n",
      "Topic 96    0.198691    0.182660    0.222770    0.186300  ...  0.212364   \n",
      "Topic 97    0.215707    0.220797    0.207635    0.201114  ...  0.184751   \n",
      "Topic 98    0.233527    0.197260    0.219006    0.211416  ...  0.191051   \n",
      "Topic 99    0.199034    0.235327    0.200429    0.205568  ...  0.948058   \n",
      "\n",
      "            ziskin       zoe  zoetrope      zola      zone     zones  \\\n",
      "Topic 0   0.208766  0.202686  0.200925  0.193285  0.218299  0.222590   \n",
      "Topic 1   0.201333  0.220394  0.216215  0.190187  0.195397  0.200218   \n",
      "Topic 2   0.186934  0.167047  0.214465  0.194400  0.235496  0.193127   \n",
      "Topic 3   0.267282  0.211872  0.227921  0.212039  0.198437  0.192854   \n",
      "Topic 4   0.213024  0.209785  0.213967  0.205729  0.198435  0.215746   \n",
      "...            ...       ...       ...       ...       ...       ...   \n",
      "Topic 95  0.186088  0.193791  0.246016  0.195490  0.186821  0.190946   \n",
      "Topic 96  0.202554  0.214562  0.201644  0.193875  0.249976  0.201009   \n",
      "Topic 97  0.178759  0.226786  0.235248  0.190818  0.232660  0.222629   \n",
      "Topic 98  0.226506  0.199023  0.219641  0.190550  0.203230  0.216460   \n",
      "Topic 99  0.216054  0.223499  0.198113  0.191204  0.175834  0.215457   \n",
      "\n",
      "              zx81   zyzzyva     émile  \n",
      "Topic 0   0.259740  0.236613  0.174717  \n",
      "Topic 1   0.193698  0.172900  0.196058  \n",
      "Topic 2   0.185734  0.205468  0.212064  \n",
      "Topic 3   0.204108  0.210724  0.208036  \n",
      "Topic 4   0.227919  0.217441  0.196578  \n",
      "...            ...       ...       ...  \n",
      "Topic 95  0.194619  0.236431  0.221387  \n",
      "Topic 96  0.255132  0.208558  0.185726  \n",
      "Topic 97  0.209321  0.214923  0.222471  \n",
      "Topic 98  0.202928  0.210281  0.221994  \n",
      "Topic 99  0.227074  0.205563  0.185098  \n",
      "\n",
      "[100 rows x 9581 columns]\n"
     ]
    }
   ],
   "source": [
    "topic_names = [f'Topic {k}' for k in range(100)]\n",
    "topic_word_distributions = pd.DataFrame(\n",
    "    model.components_, columns=vocabulary, index=topic_names)\n",
    "print(topic_word_distributions)"
   ]
  },
  {
   "cell_type": "markdown",
   "metadata": {},
   "source": [
    "This was an exploratory section where I altered the extraction direction through signification of \"document_topic_distributions.loc\" ['Topic's'] (Karsdorp, Kestemont, Riddell 301). Fame and fortune are represented with wiki research components \"The Matrix offers a potent allegory for thinking about power, technology, and society\" (Benjamin 84-85). "
   ]
  },
  {
   "cell_type": "code",
   "execution_count": 59,
   "metadata": {},
   "outputs": [
    {
     "data": {
      "text/plain": [
       "spielberg    0.453281\n",
       "film         0.381305\n",
       "jolie        0.362545\n",
       "director     0.304452\n",
       "butler       0.300933\n",
       "fiction      0.300875\n",
       "received     0.296121\n",
       "new          0.292892\n",
       "ticket       0.289466\n",
       "1999         0.286045\n",
       "19           0.285344\n",
       "rowley       0.284518\n",
       "motel        0.284273\n",
       "wing         0.283955\n",
       "series       0.283368\n",
       "father       0.282329\n",
       "best         0.282213\n",
       "starring     0.281693\n",
       "Name: Topic 9, dtype: float64"
      ]
     },
     "execution_count": 59,
     "metadata": {},
     "output_type": "execute_result"
    }
   ],
   "source": [
    "topic_word_distributions.loc['Topic 9'].sort_values(ascending=False).head(18)"
   ]
  },
  {
   "cell_type": "markdown",
   "metadata": {},
   "source": [
    "\"Word Cloud\" generates some frequencies and sees the visually impactful visionary displays as practical strategies for finding the maximum parameters in typical mixture models with \"Expectation maximization\" is common. The scikit-learn library provides a convenient way of estimating the parameters here as \"following lines of code suffice to estimate all the parameters of interest\" (Karsdorp, Kestemont, Riddell 291). "
   ]
  },
  {
   "cell_type": "code",
   "execution_count": 60,
   "metadata": {},
   "outputs": [
    {
     "name": "stdout",
     "output_type": "stream",
     "text": [
      "000           0.209735\n",
      "0062204707    0.194032\n",
      "02            0.228112\n",
      "0252061400    0.182179\n",
      "0316257442    0.217655\n",
      "0345428820    0.174812\n",
      "0345428844    0.230549\n",
      "0345455741    0.182558\n",
      "0345475732    0.201403\n",
      "0345494764    0.169955\n",
      "0345511294    0.243307\n",
      "036           0.224370\n",
      "0385535922    0.192044\n",
      "0393652673    0.197148\n",
      "0431906335    0.236493\n",
      "05            0.229661\n",
      "0517546772    0.236390\n",
      "08            0.209394\n",
      "0810949683    0.239243\n",
      "0814757925    0.217492\n",
      "Name: Topic 2, dtype: float64\n"
     ]
    },
    {
     "data": {
      "image/png": "[encoded data removed]",
      "text/plain": [
       "<Figure size 432x288 with 1 Axes>"
      ]
     },
     "metadata": {
      "needs_background": "light"
     },
     "output_type": "display_data"
    }
   ],
   "source": [
    "words = topic_word_distributions.loc['Topic 2'].sort_values(ascending=False).head(18)\n",
    "words \n",
    "\n",
    "from matplotlib import pyplot as plt\n",
    "from wordcloud import WordCloud, STOPWORDS\n",
    "import matplotlib.colors as mcolors\n",
    "\n",
    "print(topic_word_distributions.loc['Topic 2'].head(20))\n",
    "\n",
    "# Create and generate a word cloud image:\n",
    "wordcloud = WordCloud().generate_from_frequencies(words)\n",
    "\n",
    "# Display the generated image:\n",
    "plt.imshow(wordcloud, interpolation='bilinear')\n",
    "plt.axis(\"off\")\n",
    "plt.show()"
   ]
  },
  {
   "cell_type": "code",
   "execution_count": 61,
   "metadata": {},
   "outputs": [
    {
     "name": "stdout",
     "output_type": "stream",
     "text": [
      "000           0.209735\n",
      "0062204707    0.194032\n",
      "02            0.228112\n",
      "0252061400    0.182179\n",
      "0316257442    0.217655\n",
      "0345428820    0.174812\n",
      "0345428844    0.230549\n",
      "0345455741    0.182558\n",
      "0345475732    0.201403\n",
      "0345494764    0.169955\n",
      "0345511294    0.243307\n",
      "036           0.224370\n",
      "0385535922    0.192044\n",
      "0393652673    0.197148\n",
      "0431906335    0.236493\n",
      "05            0.229661\n",
      "0517546772    0.236390\n",
      "08            0.209394\n",
      "0810949683    0.239243\n",
      "0814757925    0.217492\n",
      "Name: Topic 2, dtype: float64\n"
     ]
    },
    {
     "data": {
      "image/png": "[encoded data removed]",
      "text/plain": [
       "<Figure size 432x288 with 1 Axes>"
      ]
     },
     "metadata": {
      "needs_background": "light"
     },
     "output_type": "display_data"
    }
   ],
   "source": [
    "words = topic_word_distributions.loc['Topic 4'].sort_values(ascending=False).head(18)\n",
    "words \n",
    "\n",
    "from matplotlib import pyplot as plt\n",
    "from wordcloud import WordCloud, STOPWORDS\n",
    "import matplotlib.colors as mcolors\n",
    "\n",
    "print(topic_word_distributions.loc['Topic 2'].head(20))\n",
    "\n",
    "# Create and generate a word cloud image:\n",
    "wordcloud = WordCloud().generate_from_frequencies(words)\n",
    "\n",
    "# Display the generated image:\n",
    "plt.imshow(wordcloud, interpolation='bilinear')\n",
    "plt.axis(\"off\")\n",
    "plt.show()"
   ]
  },
  {
   "cell_type": "code",
   "execution_count": 62,
   "metadata": {},
   "outputs": [
    {
     "data": {
      "text/plain": [
       "spielberg    0.453281\n",
       "film         0.381305\n",
       "jolie        0.362545\n",
       "director     0.304452\n",
       "butler       0.300933\n",
       "fiction      0.300875\n",
       "received     0.296121\n",
       "new          0.292892\n",
       "ticket       0.289466\n",
       "1999         0.286045\n",
       "19           0.285344\n",
       "rowley       0.284518\n",
       "motel        0.284273\n",
       "wing         0.283955\n",
       "series       0.283368\n",
       "father       0.282329\n",
       "best         0.282213\n",
       "starring     0.281693\n",
       "Name: Topic 9, dtype: float64"
      ]
     },
     "execution_count": 62,
     "metadata": {},
     "output_type": "execute_result"
    }
   ],
   "source": [
    "words = topic_word_distributions.loc['Topic 9'].sort_values(ascending=False).head(18)\n",
    "words "
   ]
  },
  {
   "cell_type": "markdown",
   "metadata": {},
   "source": [
    "The use of \"plotting, for each year,... can, in effect, calculate the total number of words in  all opinions published in a given year associated with a topic by multiplying  opinion lengths by the estimated topic shares\" (Karsdorp, Kestemont, Riddell 315). "
   ]
  },
  {
   "cell_type": "code",
   "execution_count": 25,
   "metadata": {},
   "outputs": [
    {
     "name": "stdout",
     "output_type": "stream",
     "text": [
      "000           0.209735\n",
      "0062204707    0.194032\n",
      "02            0.228112\n",
      "0252061400    0.182179\n",
      "0316257442    0.217655\n",
      "0345428820    0.174812\n",
      "0345428844    0.230549\n",
      "0345455741    0.182558\n",
      "0345475732    0.201403\n",
      "0345494764    0.169955\n",
      "0345511294    0.243307\n",
      "036           0.224370\n",
      "0385535922    0.192044\n",
      "0393652673    0.197148\n",
      "0431906335    0.236493\n",
      "05            0.229661\n",
      "0517546772    0.236390\n",
      "08            0.209394\n",
      "0810949683    0.239243\n",
      "0814757925    0.217492\n",
      "Name: Topic 2, dtype: float64\n"
     ]
    },
    {
     "data": {
      "image/png": "[encoded data removed]",
      "text/plain": [
       "<Figure size 432x288 with 1 Axes>"
      ]
     },
     "metadata": {
      "needs_background": "light"
     },
     "output_type": "display_data"
    }
   ],
   "source": [
    "\n",
    "\n",
    "from matplotlib import pyplot as plt\n",
    "from wordcloud import WordCloud, STOPWORDS\n",
    "import matplotlib.colors as mcolors\n",
    "\n",
    "print(topic_word_distributions.loc['Topic 2'].head(20))\n",
    "\n",
    "# Create and generate a word cloud image:\n",
    "wordcloud = WordCloud().generate_from_frequencies(words)\n",
    "\n",
    "# Display the generated image:\n",
    "plt.imshow(wordcloud, interpolation='bilinear')\n",
    "plt.axis(\"off\")\n",
    "plt.show()"
   ]
  },
  {
   "cell_type": "markdown",
   "metadata": {},
   "source": [
    "## Stage Three: Using the sentiment analysis code as a starter, run a sentiment analysis on sample fragments from the documents and compare\n",
    "\n",
    "The level of fandom in Wikipedia and what goes on the page enabled the analyzer to stand neutral on contributors who chose people they decide to write about as \"An interface constructs a narrative\" (Drucker 183)."
   ]
  },
  {
   "cell_type": "code",
   "execution_count": 26,
   "metadata": {},
   "outputs": [
    {
     "name": "stderr",
     "output_type": "stream",
     "text": [
      "[nltk_data] Downloading package vader_lexicon to\n",
      "[nltk_data]     C:\\Users\\dlawb\\AppData\\Roaming\\nltk_data...\n",
      "[nltk_data]   Package vader_lexicon is already up-to-date!\n",
      "[nltk_data] Downloading package punkt to\n",
      "[nltk_data]     C:\\Users\\dlawb\\AppData\\Roaming\\nltk_data...\n",
      "[nltk_data]   Package punkt is already up-to-date!\n"
     ]
    }
   ],
   "source": [
    "import nltk\n",
    "nltk.download('vader_lexicon')\n",
    "nltk.download('punkt')\n",
    "\n",
    "from nltk.sentiment.vader import SentimentIntensityAnalyzer\n",
    "sid = SentimentIntensityAnalyzer()"
   ]
  },
  {
   "cell_type": "markdown",
   "metadata": {},
   "source": [
    "Notes: The compounded polarity of each article simulates differences or similarities of negative or positive sentence components. Filenames were explored locally, with folders created.  In the end, encoding is not concerned about errors and send them to documents, printing them after filenames while checking out differences between large or small."
   ]
  },
  {
   "cell_type": "code",
   "execution_count": 27,
   "metadata": {},
   "outputs": [
    {
     "name": "stdout",
     "output_type": "stream",
     "text": [
      "directors/Adam_Curtis.txt\n",
      "compound: 0.0, neg: 0.0, neu: 1.0, pos: 0.0,  \n",
      "directors/Angelina_Jolie.txt\n",
      "compound: 0.8979, neg: 0.0, neu: 0.863, pos: 0.137,  \n",
      "directors/Annalee_Newitz.txt\n",
      "compound: 0.4215, neg: 0.0, neu: 0.964, pos: 0.036,  \n",
      "directors/Charlie_Jane_Anders.txt\n",
      "compound: 0.9601, neg: 0.022, neu: 0.762, pos: 0.216,  \n",
      "directors/Daniel_Myrick.txt\n",
      "compound: -0.6159, neg: 0.139, neu: 0.765, pos: 0.096,  \n",
      "directors/George_Lucas.txt\n",
      "compound: 0.8714, neg: 0.04, neu: 0.812, pos: 0.148,  \n",
      "directors/Jodie_Foster.txt\n",
      "compound: 0.98, neg: 0.0, neu: 0.722, pos: 0.278,  \n",
      "directors/M._Night_Shyamalan.txt\n",
      "compound: 0.296, neg: 0.077, neu: 0.822, pos: 0.101,  \n",
      "directors/Martin_Scorsese.txt\n",
      "compound: 0.6801, neg: 0.064, neu: 0.82, pos: 0.116,  \n",
      "directors/Mia_Hansen-Love.txt\n",
      "compound: 0.9861, neg: 0.02, neu: 0.655, pos: 0.325,  \n",
      "directors/N.K._Jemisin.txt\n",
      "compound: 0.8271, neg: 0.083, neu: 0.752, pos: 0.165,  \n",
      "directors/Octavia_Butler.txt\n",
      "compound: -0.3384, neg: 0.068, neu: 0.894, pos: 0.038,  \n",
      "directors/Sean_Baker.txt\n",
      "compound: 0.8834, neg: 0.025, neu: 0.836, pos: 0.139,  \n",
      "directors/So_Yong_Kim.txt\n",
      "compound: 0.7579, neg: 0.0, neu: 0.906, pos: 0.094,  \n",
      "directors/Sofia_Coppola.txt\n",
      "compound: 0.3818, neg: 0.04, neu: 0.88, pos: 0.08,  \n",
      "directors/Steven_Spielberg.txt\n",
      "compound: 0.9738, neg: 0.0, neu: 0.751, pos: 0.249,  \n",
      "directors/Terry_Pratchett.txt\n",
      "compound: 0.9062, neg: 0.0, neu: 0.851, pos: 0.149,  \n"
     ]
    }
   ],
   "source": [
    "for filename in filenames:\n",
    "    with open(filename, encoding=\"utf-8\") as f:\n",
    "        text = f.read()\n",
    "        documents.append(text)\n",
    "        scores = sid.polarity_scores(text[0:500])\n",
    "    print(filename)\n",
    "    for key in sorted(scores):\n",
    "        print('{0}: {1}, '.format(key, scores[key]), end='')\n",
    "    print(' ')"
   ]
  },
  {
   "cell_type": "markdown",
   "metadata": {},
   "source": [
    "## Stage Four: Using the Markov chain code as a starter, generate a sentence using one of the documents\n",
    "Herewith the use of Markov chain code, a sentence from a document became vivid toward a noncontinuous generated text \n",
    "\n",
    "\n"
   ]
  },
  {
   "cell_type": "code",
   "execution_count": 28,
   "metadata": {},
   "outputs": [],
   "source": [
    "import markovify\n",
    "import random\n",
    "generator_text = \"\"\n",
    "\n",
    "for document in documents:\n",
    "    generator_text += document"
   ]
  },
  {
   "cell_type": "markdown",
   "metadata": {},
   "source": [
    "Text pushed through the model to look clean as benefits of \"Interface designs often depend upon cultural practices or conventions that may not be legible to users from another background\" (Drucker 188)."
   ]
  },
  {
   "cell_type": "code",
   "execution_count": 29,
   "metadata": {},
   "outputs": [
    {
     "name": "stdout",
     "output_type": "stream",
     "text": [
      "A third volume, Father Christmas's Fake Beard, was released on 18 June 2013.\n"
     ]
    }
   ],
   "source": [
    "text_model = markovify.Text(text)\n",
    "print( text_model.make_sentence() )"
   ]
  },
  {
   "cell_type": "markdown",
   "metadata": {},
   "source": [
    "## Stage Five: Using the Markov chain code as a starter, generate a longer text fragment using all of the documents\n",
    "Achieved a significant moment of generating book novel set up and what words that follow. As many interfaces welcome the use of a \"universal\" reader with an \"omniscient\" viewer, \"but no such person exists, and each  individual will respond to the contents and the organization of a site in accord with their own background, experience, and expectations\" (Drucker 190).\n",
    "\n",
    "\n"
   ]
  },
  {
   "cell_type": "code",
   "execution_count": 30,
   "metadata": {},
   "outputs": [
    {
     "name": "stdout",
     "output_type": "stream",
     "text": [
      "=== Style and themes === Pratchett had mentioned two new texts, Scouting for Trolls and a 6.8% audience share. The Magic of Terry Pratchett First Novel Award === Pratchett had an observatory built in his flat in a much more sophisticated way than in print. He developed an interest in science fiction conventions from about 1963–1964, but stopped a few years before, which doctors believed had damaged the right side of his brain. \n",
      "\n",
      "=== Sir Terry would be the recipient of the debating society and wrote stories for the BBC, and became a patron for Alzheimer's Research UK. With satisfyingly multilayered plots, Pratchett's humor honors the intelligence of the novels in the first in Manchester in 1996, then worldwide, often with the same physics as ours. He made an appearance on the best-seller list; he was a contributor to the black desert under the title A Blink of the reader. Pratchett also collaborated with British science fiction novelists, the Terry Pratchett First Novel Award === Pratchett is published by Corgi, an imprint of Transworld, in 1985. \n",
      "\n",
      "Pratchett mentioned he had written a manuscript, The Carpet People, was published in 1983, after which Pratchett substantially rewrote and re-released in 1992. His initial career choice was journalism and he owned a greenhouse full of carnivorous plants. Another hallmark of his brain. \n",
      "\n",
      "A second novel, The Carpet People, was published in June 2015, and the financial world. In 2012, the first fantasy author published by Gollancz.Pratchett gave up working for the Training of Journalists proficiency course. Pratchett was misdiagnosed as having had a purpose in human evolution. The final Discworld novel, The Carpet People in 1971, with illustrations by Pratchett. == Personal life == Pratchett married Lyn Purves at the Great Dorset Steam Fair. Pratchett was one of the Ankh-Morpork City Watch in the series, The Long Utopia, was published in 1983, after which Pratchett substantially rewrote and re-released in 1992. He developed an interest in science fiction author Stephen Baxter on a parallel earth series. \n",
      "\n",
      "The ability of the 1990s. === Style and themes === Pratchett made no secret of outside influences on his work: they were available to him. He also led all authors with fifteen novels in the Top 200.Pratchett received the accolade at Buckingham Palace on 18 June 2013. In 1993, the family moved to Rowberrow, Somerset, in 1970. \n",
      "\n",
      "=== Fanbase === Pratchett's first novel, The Long Mars was published in 1983, after which Pratchett substantially rewrote and re-released in 1992. Pratchett also collaborated with British science fiction novelists, the Terry Pratchett met with generally favourable reviews, and won the annual Carnegie Medal for The Hive. === Style and themes === Pratchett is published by HarperCollins. The second, broadcast on BBC Two on 4 February 2009, drew 1.72 million viewers and a humanist. In his later years Pratchett wrote an average of two books a year. He also led all authors with fifteen novels in the UK, selling 55,000 copies in the development of the first three days. \n",
      "\n",
      "\n"
     ]
    }
   ],
   "source": [
    "novel = ''\n",
    "while (len( novel.split(\" \")) < 500):\n",
    "  for i in range(random.randrange(3,9)):\n",
    "    novel += text_model.make_sentence() + \" \"\n",
    "  novel += \"\\n\\n\"\n",
    "\n",
    "print(novel)"
   ]
  }
 ],
 "metadata": {
  "interpreter": {
   "hash": "598d64e08a06bfba065a99698ec5bbec753236817de80e4f3bcf221574aa140c"
  },
  "kernelspec": {
   "display_name": "Python 3.8.8 64-bit ('base': conda)",
   "name": "python3"
  },
  "language_info": {
   "codemirror_mode": {
    "name": "ipython",
    "version": 3
   },
   "file_extension": ".py",
   "mimetype": "text/x-python",
   "name": "python",
   "nbconvert_exporter": "python",
   "pygments_lexer": "ipython3",
   "version": "3.8.11"
  },
  "orig_nbformat": 4
 },
 "nbformat": 4,
 "nbformat_minor": 2
}
